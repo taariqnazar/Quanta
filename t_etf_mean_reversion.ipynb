{
 "cells": [
  {
   "cell_type": "code",
   "execution_count": 13,
   "id": "9a0d49c7-b095-4786-999e-f69e26c74661",
   "metadata": {},
   "outputs": [],
   "source": [
    "import pandas as pd\n",
    "import numpy as np\n",
    "import matplotlib.pyplot as plt\n",
    "from statsmodels.tsa.ar_model import AutoReg\n",
    "from statsmodels.tsa.stattools import adfuller, coint\n",
    "from statsmodels.api import OLS\n",
    "import yfinance as yf\n",
    "from datetime import timedelta"
   ]
  },
  {
   "cell_type": "code",
   "execution_count": 2,
   "id": "d6fbf136-1a41-4230-a851-bded6bf5a693",
   "metadata": {},
   "outputs": [
    {
     "name": "stdout",
     "output_type": "stream",
     "text": [
      "[*********************100%***********************]  8 of 8 completed\n"
     ]
    }
   ],
   "source": [
    "data = yf.Tickers(\"EWA EWC GLD USO TSLA NFLX AMZN ^GSPC\")\n",
    "history = data.history(start='2016-05-24', end='2020-06-01')#, end='2012-04-09')\n",
    "pairs = 0.5*(history['Open'] + history['Close'])[['TSLA', 'AMZN']]\n",
    "xname, yname = pairs.columns\n",
    "\n",
    "sp500 = history['Close']['^GSPC']"
   ]
  },
  {
   "cell_type": "code",
   "execution_count": null,
   "id": "ebe8bf0c-face-4ebe-af1e-861f9334e42e",
   "metadata": {},
   "outputs": [
    {
     "ename": "NameError",
     "evalue": "name 'pairs' is not defined",
     "output_type": "error",
     "traceback": [
      "\u001b[1;31m---------------------------------------------------------------------------\u001b[0m",
      "\u001b[1;31mNameError\u001b[0m                                 Traceback (most recent call last)",
      "\u001b[1;32m<ipython-input-1-913506e82165>\u001b[0m in \u001b[0;36m<module>\u001b[1;34m\u001b[0m\n\u001b[1;32m----> 1\u001b[1;33m \u001b[0mpairs\u001b[0m\u001b[1;33m\u001b[0m\u001b[1;33m\u001b[0m\u001b[0m\n\u001b[0m",
      "\u001b[1;31mNameError\u001b[0m: name 'pairs' is not defined"
     ]
    }
   ],
   "source": [
    "yport = pairs * np.array([ -hedge, np.ones(len(hedge))]).T\n",
    "yport = yport.sum(axis=1, skipna=False)"
   ]
  },
  {
   "cell_type": "code",
   "execution_count": 5,
   "id": "d3301ef1-f598-4b2e-adce-159e2392dafa",
   "metadata": {},
   "outputs": [],
   "source": [
    "#Vanilla num_units EX3.1 Ernie2\n",
    "lookback = 20\n",
    "z_score = (yport - yport.rolling(window=lookback).mean())/yport.rolling(window=lookback).std()\n",
    "num_units = -z_score.values\n",
    "positions = pairs * ( np.array([num_units, num_units]).T * np.array([hedge, -np.ones(len(num_units))]).T)\n",
    "pnl = (positions.shift(-1)*pairs.pct_change()).sum(axis=1)\n",
    "ret_vanilla = pnl/np.abs(positions).shift(-1).sum(axis=1)"
   ]
  },
  {
   "cell_type": "code",
   "execution_count": 6,
   "id": "9ccf0ce7-aaec-4d6e-911d-5a2ac6629a3b",
   "metadata": {},
   "outputs": [],
   "source": [
    "#Bollinger band ernie\n",
    "entry_z_score = 1\n",
    "exit_z_score = 0\n",
    "z_score = (yport - yport.rolling(window=lookback).mean())/yport.rolling(window=lookback).std()\n",
    "longs_entry = z_score < -entry_z_score\n",
    "longs_exit = z_score >= -exit_z_score\n",
    "shorts_entry = z_score > entry_z_score\n",
    "shorts_exit = z_score <= exit_z_score\n",
    "\n",
    "num_units_long = np.nan*np.zeros(len(yport))\n",
    "num_units_short = np.nan*np.zeros(len(yport))\n",
    "\n",
    "num_units_long[0] = 0\n",
    "num_units_long[longs_entry] = 1\n",
    "num_units_long[longs_exit] = 0\n",
    "num_units_long = pd.DataFrame(num_units_long).fillna(method=\"ffill\").values.T\n",
    "\n",
    "num_units_short[0] = 0\n",
    "num_units_short[shorts_entry] = -1\n",
    "num_units_short[shorts_exit] = 0\n",
    "num_units_short = pd.DataFrame(num_units_short).fillna(method=\"ffill\").values.T\n",
    "\n",
    "#Vanilla num_units EX3.1 Ernie2\n",
    "num_units = (num_units_long + num_units_short).reshape(-1,)\n",
    "positions = pairs * ( np.array([num_units, num_units]).T * np.array([hedge, -np.ones(len(num_units))]).T)\n",
    "pnl = (positions.shift(-1)*pairs.pct_change()).sum(axis=1)\n",
    "ret_bollinger = pnl/np.abs(positions).shift(-1).sum(axis=1)"
   ]
  },
  {
   "cell_type": "code",
   "execution_count": 7,
   "id": "a1792acc-4b92-41fc-9c38-646a4f29ec3e",
   "metadata": {},
   "outputs": [],
   "source": [
    "x = np.array([pairs[xname].values, np.ones(len(pairs[xname].values))])\n",
    "y = pairs[yname].values\n",
    "delta = 1e-4\n",
    "yhat = np.nan*np.zeros(len(pairs))\n",
    "e = np.nan*np.zeros(len(pairs))\n",
    "Q = np.nan*np.zeros(len(pairs))\n",
    "\n",
    "P = np.zeros((2,2))\n",
    "beta = np.nan*np.zeros((2,x.shape[1]))\n",
    "Vw = (delta/(1-delta))*np.eye(2)\n",
    "Ve = 1e-3\n",
    "\n",
    "beta[:,0] = 0\n",
    "R = P\n",
    "for t in range(len(pairs)):\n",
    "    if t>0:\n",
    "        beta[:,t] = beta[:,t-1]\n",
    "        R = P + Vw\n",
    "    \n",
    "    yhat[t] = x[:,t]@beta[:,t]\n",
    "    Q[t]=x[:,t]@R@x[:,t] + Ve\n",
    "    \n",
    "    e[t] = y[t] - yhat[t]\n",
    "    \n",
    "    K=(R@x[:,t])/Q[t]\n",
    "    \n",
    "    beta[:,t] = beta[:,t] + K*e[t]\n",
    "    \n",
    "    P = R-K*x[:,t]*R\n",
    "    \n",
    "hedge = beta[0,1:]\n",
    "e = e[1:]\n",
    "Q = Q[1:]"
   ]
  },
  {
   "cell_type": "code",
   "execution_count": 8,
   "id": "219d6b27-87ad-48ff-85ea-9877bc16bac8",
   "metadata": {},
   "outputs": [],
   "source": [
    "#Kalman Filter\n",
    "longs_entry = (e < -np.sqrt(Q)).reshape(-1,)\n",
    "longs_exit = (e > -np.sqrt(Q)).reshape(-1,)\n",
    "shorts_entry = (e > np.sqrt(Q)).reshape(-1,)\n",
    "shorts_exit = (e < np.sqrt(Q)).reshape(-1,)\n",
    "\n",
    "\n",
    "num_units_long = np.nan*np.zeros(len(e))\n",
    "num_units_short = np.nan*np.zeros(len(e))\n",
    "\n",
    "num_units_long[0] = 0\n",
    "num_units_long[longs_entry] = 1\n",
    "num_units_long[longs_exit] = 0\n",
    "num_units_long = pd.DataFrame(num_units_long).fillna(method=\"ffill\").values.T\n",
    "\n",
    "num_units_short[0] = 0\n",
    "num_units_short[shorts_entry] = -1\n",
    "num_units_short[shorts_exit] = 0\n",
    "num_units_short = pd.DataFrame(num_units_short).fillna(method=\"ffill\").values.T\n",
    "\n",
    "#Vanilla num_units EX3.1 Ernie2\n",
    "num_units = (num_units_long + num_units_short).reshape(-1,)\n",
    "positions = pairs[1:] * ( np.array([num_units, num_units]).T * np.array([hedge, -np.ones(len(num_units))]).T)\n",
    "pnl = (positions.shift(-1)*pairs[1:].pct_change()).sum(axis=1)\n",
    "ret_kalman = pnl/np.abs(positions).shift(-1).sum(axis=1)"
   ]
  },
  {
   "cell_type": "code",
   "execution_count": null,
   "id": "306f3eb6-7638-42b4-9499-dd30d2d9113b",
   "metadata": {},
   "outputs": [],
   "source": [
    "#Next Make portfolio of multiple pairs to trade\n",
    "#Try Pairs trade with 3 pairs"
   ]
  }
 ],
 "metadata": {
  "kernelspec": {
   "display_name": "Python 3",
   "language": "python",
   "name": "python3"
  },
  "language_info": {
   "codemirror_mode": {
    "name": "ipython",
    "version": 3
   },
   "file_extension": ".py",
   "mimetype": "text/x-python",
   "name": "python",
   "nbconvert_exporter": "python",
   "pygments_lexer": "ipython3",
   "version": "3.6.12"
  }
 },
 "nbformat": 4,
 "nbformat_minor": 5
}
