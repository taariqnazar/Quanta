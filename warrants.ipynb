{
 "cells": [
  {
   "cell_type": "code",
   "execution_count": null,
   "id": "81d9dc8d-141e-47d5-a4c3-d2b6e9139287",
   "metadata": {},
   "outputs": [],
   "source": [
    "def kalman_mean(y):\n",
    "\n",
    "    Vw = 1e-4/(1- 1e-4)\n",
    "    Ve = 1e-4\n",
    "\n",
    "    R = 0\n",
    "    m = np.zeros(len(y))\n",
    "    Q = np.zeros(len(y))\n",
    "\n",
    "    for t in range(1,len(y)):\n",
    "        m[t] = m[t-1]\n",
    "        R = R + Vw\n",
    "\n",
    "        yhat = m[t]\n",
    "        Q[t]= R + Ve\n",
    "        e = y[t] - yhat\n",
    "\n",
    "        K=R/Q[t]\n",
    "        m[t] = m[t] + K*e\n",
    "\n",
    "        R = R - K*R\n",
    "    \n",
    "    return m, Q\n",
    "\n",
    "def ret_metrics(daily_ret_df):\n",
    "    start_date, end_date = daily_ret_df.index[[0,-1]]\n",
    "    years = (end_date - start_date).days/365\n",
    "    \n",
    "    daily_ret_df[daily_ret_df <-1] = -1\n",
    "    \n",
    "    #CGR\n",
    "    CGR = (1 + daily_ret_df).cumprod() - 1\n",
    "    CAGR = (CGR[-1] + 1)**(1/years) - 1\n",
    "\n",
    "    #Information Ratios\n",
    "    sharpe = daily_ret_df.mean()/daily_ret_df.std()\n",
    "    if np.isnan(sharpe):\n",
    "        sharpe = 0\n",
    "    #rolling_sharpe = daily_ret_df.rolling(window=126).mean()/daily_ret_df.rolling(window=126).std()\n",
    "\n",
    "    #Drawdown\n",
    "    roll_max = (1+CGR).cummax()\n",
    "    drawdown = (1+CGR)/roll_max - 1.0\n",
    "    max_drawdown= drawdown.min()\n",
    "    drawdown_times = (drawdown < 0).astype(np.int64)\n",
    "    max_drawdown_duration = drawdown_times.groupby((drawdown_times != drawdown_times.shift()).cumsum()).cumsum().min()\n",
    "    \n",
    "    #Win/Loss percentage\n",
    "    winners = (daily_ret_df > 0).sum() / ((daily_ret_df > 0).sum() + (daily_ret_df < 0).sum())\n",
    "    losers = (daily_ret_df < 0).sum() / ((daily_ret_df > 0).sum() + (daily_ret_df < 0).sum())\n",
    "    \n",
    "    print(f'CAGR: {np.round(100*CAGR,2)}% \\\n",
    "          \\nAnnual Sharpe Ratio: {round(252**0.5 * sharpe,2)} \\\n",
    "          \\nWin Percetage: {np.round(100*winners, 2)}% \\\n",
    "          \\nLoss Percetage: {np.round(100*losers, 2)}% \\\n",
    "          \\nMax win: {np.round(100*daily_ret_df.max(),2)}% \\\n",
    "          \\nMax Loss: {np.round(100*daily_ret_df.min(),2)}% \\\n",
    "          \\nAverage Win/Loss: {np.round(100*daily_ret_df.mean(), 2)}% \\\n",
    "          \\nMax Drawdown: {np.round(100*max_drawdown,2)}% \\\n",
    "          \\nMax Drawdown Duration: {max_drawdown_duration} \\\n",
    "          \\n\\n')\n",
    "    \n",
    "    CGR.plot()\n",
    "    plt.title('Cummulative Growth')\n",
    "    plt.show()\n",
    "    \n",
    "    drawdown.plot()\n",
    "    plt.title('Drawdown')\n",
    "    plt.show()\n",
    "    #return drawdown"
   ]
  },
  {
   "cell_type": "code",
   "execution_count": null,
   "id": "e63591e9-12cf-45e9-ad17-87df7e88acf6",
   "metadata": {},
   "outputs": [],
   "source": [
    "column_names = {\n",
    "    'Highprice': 'High',\n",
    "    'Lowprice': 'Low',\n",
    "    'Closingprice': 'Close',\n",
    "    'Averageprice': 'Average',\n",
    "    'Totalvolume' : 'Volume',\n",
    "}\n",
    "\n",
    "warrant_long = pd.read_csv('_SSE223976_2021-10-27.csv', sep=';',header=1).iloc[:,:-1]\n",
    "warrant_long = warrant_long.rename(columns=column_names).sort_values('Date')\n",
    "warrant_long.index = pd.to_datetime(warrant_long.set_index('Date').index)\n",
    "\n",
    "warrant_short = pd.read_csv('_SSE222633_2021-10-27.csv', sep=';',header=1).iloc[:,:-1]\n",
    "warrant_short = warrant_short.rename(columns=column_names).sort_values('Date')\n",
    "warrant_short.index = pd.to_datetime(warrant_short.set_index('Date').index)\n",
    "\n",
    "full_df = pd.concat({\n",
    "    'W_long': warrant_long['Close'],\n",
    "    'W_short': warrant_short['Close'],\n",
    "    'OMX30': omx30['Close']\n",
    "    }, axis=1)\n",
    "\n",
    "warrants = full_df[['W_long', 'W_short']]"
   ]
  },
  {
   "cell_type": "code",
   "execution_count": null,
   "id": "225448d2-a90f-4e62-819e-278544af2072",
   "metadata": {},
   "outputs": [],
   "source": [
    "omx30 = yf.Ticker(\"^OMX\").history(start='2010-05-01')"
   ]
  },
  {
   "cell_type": "code",
   "execution_count": null,
   "id": "f3bad785-0042-4ce6-ae66-075f11f97ac4",
   "metadata": {},
   "outputs": [],
   "source": [
    "#Z_score mean reversion\n",
    "transaction_percentage = 0.01\n",
    "lookback = 252\n",
    "z_entry = 0.8\n",
    "z_exit = 0\n",
    "\n",
    "omx_ret = omx30['Close'].pct_change()\n",
    "m, Q = kalman_mean(omx_ret)\n",
    "omx_ret_rm = m# omx_ret.rolling(window=lookback).mean()\n",
    "omx_ret_std = np.sqrt(Q)#omx_ret.rolling(window=lookback).std()\n",
    "z_score = (omx_ret - omx_ret_rm)/omx_ret_std\n",
    "\n",
    "weights = pd.Series(np.zeros(len(omx_ret)), index=omx_ret.index)\n",
    "\n",
    "long_entry = z_score < -z_entry\n",
    "long_exit = z_score >= -z_exit\n",
    "short_entry = z_score > z_entry\n",
    "short_exit = z_score <= z_exit\n",
    "\n",
    "num_units_long = np.nan*np.zeros(len(omx_ret))\n",
    "num_units_short = np.nan*np.zeros(len(omx_ret))\n",
    "\n",
    "num_units_long[0] = 0\n",
    "num_units_long[long_entry] = 1\n",
    "num_units_long[long_exit] = 0\n",
    "num_units_long = pd.DataFrame(num_units_long).fillna(method=\"ffill\").values.T\n",
    "\n",
    "num_units_short[0] = 0\n",
    "num_units_short[short_entry] = -1\n",
    "num_units_short[short_exit] = 0\n",
    "num_units_short = pd.DataFrame(num_units_short).fillna(method=\"ffill\").values.T\n",
    "\n",
    "weights = pd.Series((num_units_long + num_units_short).reshape(-1), index = omx_ret.index)\n",
    "\n",
    "k = 5 # Leverage of Product\n",
    "transaction_cost = transaction_percentage*(abs(weights.diff())) #Cost of buying product\n",
    "hold_cost = (0.03/100)*(abs(weights.shift(1))) #Cost of holding product\n",
    "rets = k*(weights.shift(1)*omx_ret).fillna(0) - transaction_cost - hold_cost\n",
    "\n",
    "ret_metrics(rets)"
   ]
  },
  {
   "cell_type": "code",
   "execution_count": null,
   "id": "4c6b3321-3b97-4f46-b91a-4eafe76715fa",
   "metadata": {},
   "outputs": [],
   "source": [
    "# Market Mean Reversion Strategy\n",
    "transaction_percentage = 0.01\n",
    "\n",
    "omx_ret = omx30['Close'].pct_change()\n",
    "omx_ret_mean = m\n",
    "omx_ret_std = np.sqrt(Q)\n",
    "\n",
    "excess = omx_ret - omx_ret_mean\n",
    "weights = - np.sign(excess)\n",
    "weights[abs(excess) <= 0.05/100] = 0\n",
    "\n",
    "k = 10 # Leverage of Product\n",
    "transaction_cost = transaction_percentage*(abs(weights.diff())) #Cost of buying product\n",
    "hold_cost = (0.03/100)*(abs(weights.shift(1) - weights.shift(1).diff())) #Cost of holding product\n",
    "rets = k*weights.shift(1)*omx_ret# - transaction_cost - hold_cost\n",
    "\n",
    "ret_metrics(rets)"
   ]
  },
  {
   "cell_type": "code",
   "execution_count": null,
   "id": "567a9072-d090-494d-90fd-9fe2f1d7509e",
   "metadata": {},
   "outputs": [],
   "source": [
    "#Try momentum strategy\n",
    "close = omx30['Close']\n",
    "train_close = close[:train_split]\n",
    "test_close = close[train_split:]\n",
    "omx_ret = close.pct_change()\n",
    "train_split = int(0.6*close.shape[0])\n",
    "\n",
    "lookback = [1, 5, 10, 25, 60, 120, 250]\n",
    "holddays = [1, 5, 10, 25, 60, 120, 250]\n",
    "\n",
    "results = pd.DataFrame([])\n",
    "for lb in lookback:\n",
    "    for hd in holddays:\n",
    "        ret_lag = train_close.pct_change(lb)\n",
    "        ret_fut = (train_close.shift(-hd) - train_close[:train_split])/train_close[:train_split]\n",
    "        bad_dates = ret_lag.isna() | ret_fut.isna()\n",
    "        \n",
    "        ret_lag = ret_lag[~bad_dates]\n",
    "        ret_fut = ret_fut[~bad_dates]\n",
    "        \n",
    "        if lb >= hd:\n",
    "            jump = lb\n",
    "        else:\n",
    "            jump = hd\n",
    "        \n",
    "        fut = ret_fut\n",
    "        lag = ret_lag\n",
    "        ret_lag = ret_lag[:len(ret_lag):jump]\n",
    "        ret_fut = ret_fut[:len(ret_fut):jump]\n",
    "        cc, p_val =corr(ret_lag, ret_fut)\n",
    "        \n",
    "        results = results.append(pd.DataFrame([[lb, hd, cc, p_val]], columns=['lookback', 'holddays','cc', 'p_val']), ignore_index=True)\n",
    "#results.sort_values(['lookback', 'holddays'])"
   ]
  },
  {
   "cell_type": "code",
   "execution_count": null,
   "id": "870ceecb-9502-4ccc-86ee-87ab1a730d18",
   "metadata": {},
   "outputs": [],
   "source": [
    "lookback, holddays = (100,10)\n",
    "test_ret = test_close.pct_change()\n",
    "\n",
    "longs = test_close > test_close.shift(lookback)\n",
    "shorts = test_close < test_close.shift(lookback)\n",
    "\n",
    "pos = pd.Series(np.zeros(test_close.shape), index=test_close.index)\n",
    "for h in range(holddays):\n",
    "    long_lag = longs.shift(h)\n",
    "    long_lag[long_lag.isna()] = False\n",
    "    #long_lag = long_lag*1\n",
    "    \n",
    "    short_lag = shorts.shift(h)\n",
    "    short_lag[short_lag.isna()] = False\n",
    "    #short_lag = short_lag*1\n",
    "    \n",
    "    pos[long_lag] = pos[long_lag] + 1\n",
    "    pos[short_lag] = pos[short_lag] - 1\n",
    "    \n",
    "k = 10\n",
    "transaction_cost = 0.01*(abs(pos.diff())) #Cost of buying product\n",
    "hold_cost = (0.03/100)*(abs(pos.shift(1) - pos.shift(1).diff())) #Cost of holding product\n",
    "rets = k*(pos.shift(1)*test_ret) #- transaction_cost - hold_cost\n",
    "\n",
    "ret_metrics(rets)"
   ]
  },
  {
   "cell_type": "code",
   "execution_count": null,
   "id": "934c4476-d739-4285-b7b3-4b06a58d8919",
   "metadata": {},
   "outputs": [],
   "source": [
    "lookback=250\n",
    "\n",
    "tick = yf.Ticker('TSLA').history(start='2015-05-01')\n",
    "close = tick['Close']\n",
    "\n",
    "ret = close.pct_change()\n",
    "m, Q = kalman_mean(ret)\n",
    "\n",
    "ret_rm = m#ret.rolling(window=lookback).mean()\n",
    "ret_std = np.sqrt(Q)#ret.rolling(window=lookback).std()\n",
    "z_score = (ret - ret_rm)/ret_std\n",
    "\n",
    "weights = pd.Series(np.zeros(len(omx_ret)), index=omx_ret.index)\n",
    "\n",
    "z_entry = 0.75\n",
    "z_exit = -1\n",
    "\n",
    "long_entry = z_score < -z_entry\n",
    "long_exit = z_score >= -z_exit\n",
    "short_entry = z_score > z_entry\n",
    "short_exit = z_score <= z_exit\n",
    "\n",
    "num_units_long = np.nan*np.zeros(len(ret))\n",
    "num_units_short = np.nan*np.zeros(len(ret))\n",
    "\n",
    "num_units_long[0] = 0\n",
    "num_units_long[long_entry] = 1\n",
    "num_units_long[long_exit] = 0\n",
    "num_units_long = pd.DataFrame(num_units_long).fillna(method=\"ffill\").values.T\n",
    "\n",
    "num_units_short[0] = 0\n",
    "num_units_short[short_entry] = -1\n",
    "num_units_short[short_exit] = 0\n",
    "num_units_short = pd.DataFrame(num_units_short).fillna(method=\"ffill\").values.T\n",
    "\n",
    "weights = pd.Series((num_units_long + num_units_short).reshape(-1), index = ret.index)\n",
    "\n",
    "k = 1 # Leverage of Product\n",
    "transaction_cost = transaction_percentage*(abs(weights.diff())) #Cost of buying product\n",
    "hold_cost = (0.03/100)*(abs(weights.shift(1))) #Cost of holding product\n",
    "rets = k*(weights.shift(1)*ret).fillna(0) #- transaction_cost - hold_cost\n",
    "\n",
    "ret_metrics(rets)\n",
    "ret_metrics(ret)"
   ]
  },
  {
   "cell_type": "code",
   "execution_count": 854,
   "id": "bc12cbcb-2cf3-4f6e-905e-f7e09a9ab5ce",
   "metadata": {},
   "outputs": [
    {
     "name": "stdout",
     "output_type": "stream",
     "text": [
      "[*********************100%***********************]  2 of 2 completed\n"
     ]
    }
   ],
   "source": [
    "from statsmodels.tsa.arima_model import ARIMA\n",
    "from statsmodels.tsa.vector_ar.var_model import VAR\n",
    "\n",
    "#^GDAXI ^N225 ^DJI\n",
    "ticks = yf.Tickers(\"^OMX ATCO-A.ST\").history(start=\"2011-05-01\")\n",
    "close = ticks['Close'].fillna(method=\"ffill\")\n",
    "opens = ticks['Open'].fillna(method = 'ffill')\n",
    "mid = (ticks['Close'].fillna(method=\"ffill\") + ticks['Open'].fillna(method=\"ffill\"))/2"
   ]
  },
  {
   "cell_type": "code",
   "execution_count": 852,
   "id": "ebe2ff1f-2228-4f11-a83c-89f02ae90041",
   "metadata": {
    "tags": []
   },
   "outputs": [],
   "source": [
    "window_size = 300\n",
    "\n",
    "yF = pd.DataFrame()\n",
    "for t in range(window_size,len(mid)):\n",
    "    model = VAR(mid[t-window_size:t].values)\n",
    "    fit = model.fit(1)\n",
    "    forecast = fit.forecast([mid.iloc[t-1]], steps=1)\n",
    "    yF = yF.append(pd.DataFrame(forecast, columns=mid.columns, index=[mid.index[t]]))"
   ]
  },
  {
   "cell_type": "code",
   "execution_count": 855,
   "id": "b597b4c4-8bc9-49d0-870b-7294e9969bda",
   "metadata": {},
   "outputs": [
    {
     "name": "stdout",
     "output_type": "stream",
     "text": [
      "CAGR: 1.79%           \n",
      "Annual Sharpe Ratio: 0.27           \n",
      "Win Percetage: 50.99%           \n",
      "Loss Percetage: 49.01%           \n",
      "Max win: 4.21%           \n",
      "Max Loss: -5.29%           \n",
      "Average Win/Loss: 0.01%           \n",
      "Max Drawdown: -17.44%           \n",
      "Max Drawdown Duration: 0           \n",
      "\n",
      "\n"
     ]
    },
    {
     "data": {
      "image/png": "[encoded data removed]",
      "text/plain": [
       "<Figure size 432x288 with 1 Axes>"
      ]
     },
     "metadata": {
      "needs_background": "light"
     },
     "output_type": "display_data"
    },
    {
     "data": {
      "image/png": "[encoded data removed]",
      "text/plain": [
       "<Figure size 432x288 with 1 Axes>"
      ]
     },
     "metadata": {
      "needs_background": "light"
     },
     "output_type": "display_data"
    }
   ],
   "source": [
    "retF = (yF-opens).div(opens, axis=1)[window_size:]\n",
    "mean = retF.mean(axis=1)\n",
    "\n",
    "weights = retF.add(-mean, axis=0)\n",
    "weights = weights.div(abs(weights).sum(axis=1), axis=0)\n",
    "\n",
    "K = 1\n",
    "rets = K*weights.shift(1)*close.pct_change() #- (1/100)*abs(weights.diff()) - (0.03/100)\n",
    "\n",
    "#rets = rets.sum(axis=1) \n",
    "\n",
    "ret_metrics(rets['^OMX'])"
   ]
  },
  {
   "cell_type": "code",
   "execution_count": 887,
   "id": "9e425cf7-9e6f-4d31-8ec0-a321fc3f1f7f",
   "metadata": {},
   "outputs": [
    {
     "data": {
      "text/html": [
       "<div>\n",
       "<style scoped>\n",
       "    .dataframe tbody tr th:only-of-type {\n",
       "        vertical-align: middle;\n",
       "    }\n",
       "\n",
       "    .dataframe tbody tr th {\n",
       "        vertical-align: top;\n",
       "    }\n",
       "\n",
       "    .dataframe thead th {\n",
       "        text-align: right;\n",
       "    }\n",
       "</style>\n",
       "<table border=\"1\" class=\"dataframe\">\n",
       "  <thead>\n",
       "    <tr style=\"text-align: right;\">\n",
       "      <th></th>\n",
       "      <th>Long</th>\n",
       "      <th>Short</th>\n",
       "    </tr>\n",
       "  </thead>\n",
       "  <tbody>\n",
       "    <tr>\n",
       "      <th>2021-02-01</th>\n",
       "      <td>200,44</td>\n",
       "      <td>575,98</td>\n",
       "    </tr>\n",
       "    <tr>\n",
       "      <th>2021-02-02</th>\n",
       "      <td>217,62</td>\n",
       "      <td>575,98</td>\n",
       "    </tr>\n",
       "    <tr>\n",
       "      <th>2021-02-03</th>\n",
       "      <td>229,21</td>\n",
       "      <td>575,98</td>\n",
       "    </tr>\n",
       "    <tr>\n",
       "      <th>2021-02-04</th>\n",
       "      <td>235,62</td>\n",
       "      <td>575,98</td>\n",
       "    </tr>\n",
       "    <tr>\n",
       "      <th>2021-02-05</th>\n",
       "      <td>216,73</td>\n",
       "      <td>575,98</td>\n",
       "    </tr>\n",
       "    <tr>\n",
       "      <th>...</th>\n",
       "      <td>...</td>\n",
       "      <td>...</td>\n",
       "    </tr>\n",
       "    <tr>\n",
       "      <th>2021-10-25</th>\n",
       "      <td>550,70</td>\n",
       "      <td>109,94</td>\n",
       "    </tr>\n",
       "    <tr>\n",
       "      <th>2021-10-26</th>\n",
       "      <td>559,85</td>\n",
       "      <td>99,29</td>\n",
       "    </tr>\n",
       "    <tr>\n",
       "      <th>2021-10-27</th>\n",
       "      <td>549,97</td>\n",
       "      <td>115,12</td>\n",
       "    </tr>\n",
       "    <tr>\n",
       "      <th>2021-10-28</th>\n",
       "      <td>531,95</td>\n",
       "      <td>125,31</td>\n",
       "    </tr>\n",
       "    <tr>\n",
       "      <th>2021-10-29</th>\n",
       "      <td>518,14</td>\n",
       "      <td>139,33</td>\n",
       "    </tr>\n",
       "  </tbody>\n",
       "</table>\n",
       "<p>191 rows × 2 columns</p>\n",
       "</div>"
      ],
      "text/plain": [
       "              Long   Short\n",
       "2021-02-01  200,44  575,98\n",
       "2021-02-02  217,62  575,98\n",
       "2021-02-03  229,21  575,98\n",
       "2021-02-04  235,62  575,98\n",
       "2021-02-05  216,73  575,98\n",
       "...            ...     ...\n",
       "2021-10-25  550,70  109,94\n",
       "2021-10-26  559,85   99,29\n",
       "2021-10-27  549,97  115,12\n",
       "2021-10-28  531,95  125,31\n",
       "2021-10-29  518,14  139,33\n",
       "\n",
       "[191 rows x 2 columns]"
      ]
     },
     "execution_count": 887,
     "metadata": {},
     "output_type": "execute_result"
    }
   ],
   "source": [
    "mini_L = pd.read_csv('./Backtest Engine/omx30mini_L_2020_12_01-2021-10-30.csv', sep=';',header=1).iloc[:,:-1].rename(columns={'Datum': 'Date', 'Stängn.kurs': 'Long'}).set_index('Date')['Long']\n",
    "mini_S = pd.read_csv('./Backtest Engine/omx30mini_S_2021_02_01-2021_10_30.csv', sep=';',header=1).iloc[:,:-1].rename(columns={'Datum': 'Date', 'Stängn.kurs': 'Short'}).set_index('Date')['Short']\n",
    "\n",
    "full = pd.DataFrame([])\n",
    "\n",
    "full = full.append(mini_L)\n",
    "full = full.append(mini_S)\n",
    "\n",
    "full = full.T\n",
    "\n",
    "pd.read_csv('./omx_minif_LS_2021-02-01_2021-10_29.csv', index_col=0)"
   ]
  },
  {
   "cell_type": "code",
   "execution_count": 929,
   "id": "f77920a8-e4f9-4457-9b75-697db3cbd6f5",
   "metadata": {},
   "outputs": [
    {
     "data": {
      "text/plain": [
       "array([2290.02432222])"
      ]
     },
     "execution_count": 929,
     "metadata": {},
     "output_type": "execute_result"
    }
   ],
   "source": [
    "model = ARIMA(close['^OMX'].iloc[-300:].values, order=(1,0,0))\n",
    "fit = model.fit()\n",
    "fit.forecast()[0]"
   ]
  },
  {
   "cell_type": "code",
   "execution_count": 928,
   "id": "f0a09b20-21e5-4b19-b356-bf255ee16eda",
   "metadata": {},
   "outputs": [
    {
     "data": {
      "text/plain": [
       "array([2323.16992188, 2313.23999023, 2290.85009766])"
      ]
     },
     "execution_count": 928,
     "metadata": {},
     "output_type": "execute_result"
    }
   ],
   "source": [
    "close['^OMX'].iloc[-300:].values[-3:]"
   ]
  },
  {
   "cell_type": "code",
   "execution_count": null,
   "id": "1535f9b5-779a-478e-8ba2-1f265659fa37",
   "metadata": {},
   "outputs": [],
   "source": []
  }
 ],
 "metadata": {
  "kernelspec": {
   "display_name": "Python 3",
   "language": "python",
   "name": "python3"
  },
  "language_info": {
   "codemirror_mode": {
    "name": "ipython",
    "version": 3
   },
   "file_extension": ".py",
   "mimetype": "text/x-python",
   "name": "python",
   "nbconvert_exporter": "python",
   "pygments_lexer": "ipython3",
   "version": "3.6.12"
  }
 },
 "nbformat": 4,
 "nbformat_minor": 5
}
