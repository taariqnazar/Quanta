{
 "cells": [
  {
   "cell_type": "code",
   "execution_count": 124,
   "id": "b423dcae-bb17-4d66-a757-c5ff5cc1cda0",
   "metadata": {},
   "outputs": [],
   "source": [
    "import pandas as pd\n",
    "import numpy as np\n",
    "import matplotlib.pyplot as plt\n",
    "import yfinance as yf\n",
    "from statsmodels.graphics.tsaplots import plot_acf\n",
    "from statsmodels.tsa.stattools import adfuller, coint\n",
    "from statsmodels.tsa.ar_model import AutoReg\n",
    "from statsmodels.api import OLS"
   ]
  },
  {
   "cell_type": "code",
   "execution_count": 169,
   "id": "a0e6d7e2-2efe-46e4-a593-d6d44882fe82",
   "metadata": {},
   "outputs": [],
   "source": [
    "data = yf.Ticker(\"^GSPC\")\n",
    "history = data.history(start=\"2006-01-01\", end=\"2012-06-05\")\n",
    "cl = history['Close']"
   ]
  },
  {
   "cell_type": "code",
   "execution_count": null,
   "id": "35d60027-ceb8-4b63-abcf-22e92e3e8b54",
   "metadata": {},
   "outputs": [],
   "source": []
  }
 ],
 "metadata": {
  "kernelspec": {
   "display_name": "Python 3",
   "language": "python",
   "name": "python3"
  },
  "language_info": {
   "codemirror_mode": {
    "name": "ipython",
    "version": 3
   },
   "file_extension": ".py",
   "mimetype": "text/x-python",
   "name": "python",
   "nbconvert_exporter": "python",
   "pygments_lexer": "ipython3",
   "version": "3.6.12"
  }
 },
 "nbformat": 4,
 "nbformat_minor": 5
}
