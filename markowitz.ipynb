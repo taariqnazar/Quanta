{
 "cells": [
  {
   "cell_type": "code",
   "execution_count": 3,
   "id": "8e62fcd3-c581-4733-840f-d3b88fb976c4",
   "metadata": {},
   "outputs": [],
   "source": [
    "import numpy as np\n",
    "import pandas as pd\n",
    "import matplotlib.pyplot as plt\n",
    "import yfinance as yf"
   ]
  },
  {
   "cell_type": "code",
   "execution_count": 4,
   "id": "83d71063-9dac-4066-a978-3d0db6565acf",
   "metadata": {},
   "outputs": [
    {
     "name": "stdout",
     "output_type": "stream",
     "text": [
      "[*********************100%***********************]  2977 of 2977 completed\n",
      "\n",
      "14 Failed downloads:\n",
      "- BRLIR: None\n",
      "- AMAOW: None\n",
      "- MPACR: None\n",
      "- ACQRW: None\n",
      "- ZGYHR: None\n",
      "- BREZR: None\n",
      "- ESSCR: None\n",
      "- ADOCR: None\n",
      "- SFB: None\n",
      "- AGBAR: None\n",
      "- ALACR: None\n",
      "- VTAQR: None\n",
      "- GBLIL: None\n",
      "- GBRGR: None\n"
     ]
    }
   ],
   "source": [
    "consumer_symbols = pd.read_csv('symbols_consumer_nd.csv')['Symbol']\n",
    "tech_symbols = pd.read_csv('tech_nasdaq.csv')['Symbol']\n",
    "energy_symbols = pd.read_csv('energy_nasdaq.csv')['Symbol']\n",
    "finance_symbols = pd.read_csv('finance_nasdaq.csv')['Symbol']\n",
    "basic_industries_symbols = pd.read_csv('basic_industries_nasdaq.csv')['Symbol']\n",
    "\n",
    "symbols = pd.DataFrame({'Energy': energy_symbols, 'Tech':tech_symbols, 'Consumer': consumer_symbols, 'Finance': finance_symbols, 'Basic Industries': basic_industries_symbols})\n",
    "\n",
    "all_tickers = []\n",
    "for s in symbols:\n",
    "    all_tickers = [*all_tickers, *symbols[s].dropna().values]\n",
    "\n",
    "n = symbols.shape[1]\n",
    "\n",
    "tickers = \"\"\n",
    "for ticker in all_tickers:\n",
    "    tickers += \" \" +ticker\n",
    "tickers = tickers[1:]\n",
    "data = yf.Tickers(tickers)\n",
    "history = data.history(start='2016-04-04')"
   ]
  },
  {
   "cell_type": "code",
   "execution_count": 11,
   "id": "53a8003e-2475-45e0-8476-9399a080b151",
   "metadata": {},
   "outputs": [],
   "source": [
    "close = history['Close']\n",
    "returns = close.pct_change()"
   ]
  },
  {
   "cell_type": "code",
   "execution_count": 15,
   "id": "0ee44eeb-a47f-4d14-97f3-c9a429a3ce1a",
   "metadata": {},
   "outputs": [
    {
     "data": {
      "text/plain": [
       "<AxesSubplot:xlabel='Date'>"
      ]
     },
     "execution_count": 15,
     "metadata": {},
     "output_type": "execute_result"
    },
    {
     "data": {
      "image/png": "[encoded data removed]",
      "text/plain": [
       "<Figure size 432x288 with 1 Axes>"
      ]
     },
     "metadata": {
      "needs_background": "light"
     },
     "output_type": "display_data"
    }
   ],
   "source": [
    "((returns['AAPL'] + 1).cumprod() -1 ).plot()"
   ]
  },
  {
   "cell_type": "code",
   "execution_count": null,
   "id": "aa130aad-cc5a-499c-ae75-7780f72a48bd",
   "metadata": {},
   "outputs": [],
   "source": []
  }
 ],
 "metadata": {
  "kernelspec": {
   "display_name": "Python 3",
   "language": "python",
   "name": "python3"
  },
  "language_info": {
   "codemirror_mode": {
    "name": "ipython",
    "version": 3
   },
   "file_extension": ".py",
   "mimetype": "text/x-python",
   "name": "python",
   "nbconvert_exporter": "python",
   "pygments_lexer": "ipython3",
   "version": "3.6.12"
  }
 },
 "nbformat": 4,
 "nbformat_minor": 5
}
