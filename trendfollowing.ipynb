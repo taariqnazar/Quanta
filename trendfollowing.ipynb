{
 "cells": [
  {
   "cell_type": "code",
   "execution_count": 37,
   "id": "b423dcae-bb17-4d66-a757-c5ff5cc1cda0",
   "metadata": {},
   "outputs": [],
   "source": [
    "import pandas as pd\n",
    "import numpy as np\n",
    "import matplotlib.pyplot as plt\n",
    "from statsmodels.tsa.ar_model import AutoReg\n",
    "import yfinance as yf"
   ]
  },
  {
   "cell_type": "code",
   "execution_count": 33,
   "id": "a0e6d7e2-2efe-46e4-a593-d6d44882fe82",
   "metadata": {},
   "outputs": [
    {
     "name": "stdout",
     "output_type": "stream",
     "text": [
      "[*********************100%***********************]  2 of 2 completed\n"
     ]
    }
   ],
   "source": [
    "futures = yf.Tickers(\"CLX21.NYM  CLV21.NYM\")\n",
    "f_hist = futures.history(period=\"max\")"
   ]
  },
  {
   "cell_type": "code",
   "execution_count": 52,
   "id": "1f5fd3be-3f81-4a61-bc7e-4ec2efe5196b",
   "metadata": {},
   "outputs": [
    {
     "data": {
      "text/plain": [
       "array([57.06000137, 57.34999847, 58.61000061, ..., 70.13999939,\n",
       "       70.48999786, 71.94999695])"
      ]
     },
     "execution_count": 52,
     "metadata": {},
     "output_type": "execute_result"
    }
   ],
   "source": [
    "train = f_hist['Close']['CLX21.NYM'].fillna(method='ffill').values\n",
    "train"
   ]
  },
  {
   "cell_type": "code",
   "execution_count": 53,
   "id": "6698a108-8dae-44b6-92ed-60942c2afbbc",
   "metadata": {},
   "outputs": [],
   "source": [
    "model = AutoReg(train, lags=29)\n",
    "model_fit = model.fit()\n",
    "coef = model_fit.params"
   ]
  },
  {
   "cell_type": "code",
   "execution_count": 54,
   "id": "c02a08ba-1d3d-4d9e-b85e-fc876c75e1af",
   "metadata": {},
   "outputs": [
    {
     "data": {
      "text/plain": [
       "array([ 0.2371062 ,  0.91701298,  0.08154742, -0.00899151, -0.00813696,\n",
       "       -0.00514512,  0.04780136, -0.03874563, -0.00534676,  0.05489999,\n",
       "       -0.04601076, -0.02649579,  0.01517402,  0.06073351,  0.02484902,\n",
       "       -0.04622627, -0.009668  , -0.03578379, -0.02859896,  0.05725032,\n",
       "        0.02578036, -0.02984175,  0.01775121,  0.03621885, -0.03529546,\n",
       "        0.02271191, -0.07956007,  0.04354766,  0.01388471, -0.01954148])"
      ]
     },
     "execution_count": 54,
     "metadata": {},
     "output_type": "execute_result"
    }
   ],
   "source": []
  },
  {
   "cell_type": "code",
   "execution_count": null,
   "id": "7fa154c3-5035-4e18-8599-76b0ab4a86d1",
   "metadata": {},
   "outputs": [],
   "source": []
  }
 ],
 "metadata": {
  "kernelspec": {
   "display_name": "Python 3",
   "language": "python",
   "name": "python3"
  },
  "language_info": {
   "codemirror_mode": {
    "name": "ipython",
    "version": 3
   },
   "file_extension": ".py",
   "mimetype": "text/x-python",
   "name": "python",
   "nbconvert_exporter": "python",
   "pygments_lexer": "ipython3",
   "version": "3.6.12"
  }
 },
 "nbformat": 4,
 "nbformat_minor": 5
}
